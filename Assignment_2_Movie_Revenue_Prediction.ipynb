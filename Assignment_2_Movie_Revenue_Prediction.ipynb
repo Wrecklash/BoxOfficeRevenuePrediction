{
  "cells": [
    {
      "cell_type": "code",
      "execution_count": null,
      "metadata": {},
      "outputs": [],
      "source": [
        "import pandas as pd\n",
        "import numpy as np\n",
        "import matplotlib.pyplot as plt\n",
        "import seaborn as sns\n",
        "\n"
      ]
    },
    {
      "cell_type": "code",
      "execution_count": null,
      "metadata": {},
      "outputs": [],
      "source": [
        "df = pd.read_csv('train.csv/train.csv')"
      ]
    },
    {
      "cell_type": "code",
      "execution_count": null,
      "metadata": {},
      "outputs": [],
      "source": [
        "# Set pandas options to display full content\n",
        "pd.set_option('display.max_rows', None)\n",
        "pd.set_option('display.max_columns', None)\n",
        "pd.set_option('display.width', None)\n",
        "pd.set_option('display.max_colwidth', None)\n",
        "\n"
      ]
    },
    {
      "cell_type": "code",
      "execution_count": null,
      "metadata": {},
      "outputs": [],
      "source": [
        "# Check for missing values\n",
        "print(\"Missing values per column:\")\n",
        "print(df.isnull().sum())"
      ]
    },
    {
      "cell_type": "code",
      "execution_count": null,
      "metadata": {},
      "outputs": [],
      "source": [
        "# Load test data\n",
        "test_df = pd.read_csv('test.csv/test.csv')\n",
        "print(f\"Test data shape: {test_df.shape}\")\n",
        "print(\"\\nTest data columns:\")\n",
        "print(test_df.columns.tolist())"
      ]
    },
    {
      "cell_type": "code",
      "execution_count": null,
      "metadata": {},
      "outputs": [],
      "source": [
        "df_clean = df[df['revenue'] > 0].copy()\n",
        "print(f\"Rows after removing zero/negative revenue: {len(df_clean)}\")"
      ]
    },
    {
      "cell_type": "code",
      "execution_count": null,
      "metadata": {},
      "outputs": [],
      "source": [
        "df_clean.head(1)"
      ]
    },
    {
      "cell_type": "code",
      "execution_count": null,
      "metadata": {},
      "outputs": [],
      "source": [
        "print(\"Dataset Info:\")\n",
        "df.info()\n",
        "print(\"\\n\" + \"=\"*50)\n",
        "print(\"Dataset columns:\")\n",
        "print(df.columns.tolist())"
      ]
    },
    {
      "cell_type": "code",
      "execution_count": null,
      "metadata": {},
      "outputs": [],
      "source": [
        "# Look at the revenue column (target variable)\n",
        "print(\"Revenue statistics:\")\n",
        "print(df['revenue'].describe())\n",
        "print(f\"\\nZero revenues: {(df['revenue'] == 0).sum()}\")\n",
        "print(f\"Negative revenues: {(df['revenue'] < 0).sum()}\")\n",
        "\n",
        "# Show revenue distribution\n",
        "plt.figure(figsize=(12, 4))\n",
        "\n",
        "plt.subplot(1, 2, 1)\n",
        "plt.hist(df['revenue'], bins=50, alpha=0.7)\n",
        "plt.title('Revenue Distribution')\n",
        "plt.xlabel('Revenue ($)')\n",
        "plt.ylabel('Frequency')\n",
        "\n",
        "\n",
        "plt.show()"
      ]
    },
    {
      "cell_type": "code",
      "execution_count": 44,
      "metadata": {},
      "outputs": [
        {
          "name": "stdout",
          "output_type": "stream",
          "text": [
            "Numeric Features Summary:\n",
            "             budget   popularity      runtime       revenue\n",
            "count  3.000000e+03  3000.000000  2998.000000  3.000000e+03\n",
            "mean   2.253133e+07     8.463274   107.856571  6.672585e+07\n",
            "std    3.702609e+07    12.104000    22.086434  1.375323e+08\n",
            "min    0.000000e+00     0.000001     0.000000  1.000000e+00\n",
            "25%    0.000000e+00     4.018053    94.000000  2.379808e+06\n",
            "50%    8.000000e+06     7.374861   104.000000  1.680707e+07\n",
            "75%    2.900000e+07    10.890983   118.000000  6.891920e+07\n",
            "max    3.800000e+08   294.337037   338.000000  1.519558e+09\n",
            "\n",
            "Correlations with Revenue:\n",
            "budget: 0.753\n",
            "popularity: 0.461\n",
            "runtime: 0.216\n"
          ]
        }
      ],
      "source": [
        "# Examine key numeric features\n",
        "numeric_cols = ['budget', 'popularity', 'runtime', 'revenue']\n",
        "\n",
        "print(\"Numeric Features Summary:\")\n",
        "print(df[numeric_cols].describe())\n",
        "\n",
        "print(f\"\\nCorrelations with Revenue:\")\n",
        "for col in ['budget', 'popularity', 'runtime']:\n",
        "    corr = df[col].corr(df['revenue'])\n",
        "    print(f\"{col}: {corr:.3f}\")"
      ]
    },
    {
      "cell_type": "code",
      "execution_count": 43,
      "metadata": {},
      "outputs": [
        {
          "name": "stdout",
          "output_type": "stream",
          "text": [
            "=== GENRES ANALYSIS ===\n",
            "Sample genres (first 5):\n",
            "1. [{'id': 35, 'name': 'Comedy'}]\n",
            "2. [{'id': 35, 'name': 'Comedy'}, {'id': 18, 'name': 'Drama'}, {'id': 10751, 'name': 'Family'}, {'id': 10749, 'name': 'Romance'}]\n",
            "3. [{'id': 18, 'name': 'Drama'}]\n",
            "4. [{'id': 53, 'name': 'Thriller'}, {'id': 18, 'name': 'Drama'}]\n",
            "5. [{'id': 28, 'name': 'Action'}, {'id': 53, 'name': 'Thriller'}]\n",
            "\n",
            "Genres data type: <class 'str'>\n",
            "Missing genres: 7\n",
            "\n",
            "============================================================\n",
            "=== CAST ANALYSIS ===\n",
            "Sample cast (first 3):\n",
            "1. [{'cast_id': 4, 'character': 'Lou', 'credit_id': '52fe4ee7c3a36847f82afae7', 'gender': 2, 'id': 52997, 'name': 'Rob Corddry', 'order': 0, 'profile_path': '/k2zJL0V1nEZuFT08xUdOd3ucfXz.jpg'}, {'cast_id...\n",
            "2. [{'cast_id': 1, 'character': 'Mia Thermopolis', 'credit_id': '52fe43fe9251416c7502561f', 'gender': 1, 'id': 1813, 'name': 'Anne Hathaway', 'order': 0, 'profile_path': '/jUMOKwSUBnTcMeN1HfhutiY49Ad.jpg...\n",
            "3. [{'cast_id': 5, 'character': 'Andrew Neimann', 'credit_id': '52fe4ef7c3a36847f82b3fc3', 'gender': 2, 'id': 996701, 'name': 'Miles Teller', 'order': 0, 'profile_path': '/o2wfvYAvspsKqYVt4ORR8VWjB7H.jpg...\n",
            "\n",
            "Missing cast: 13\n",
            "\n",
            "============================================================\n",
            "=== PRODUCTION COMPANIES ANALYSIS ===\n",
            "Sample production companies (first 5):\n",
            "1. [{'name': 'Paramount Pictures', 'id': 4}, {'name': 'United Artists', 'id': 60}, {'name': 'Metro-Goldwyn-Mayer (MGM)', 'id': 8411}]\n",
            "2. [{'name': 'Walt Disney Pictures', 'id': 2}]\n",
            "3. [{'name': 'Bold Films', 'id': 2266}, {'name': 'Blumhouse Productions', 'id': 3172}, {'name': 'Right of Way Films', 'id': 32157}]\n",
            "4. [{'name': 'Ghost House Pictures', 'id': 768}, {'name': 'North Box Productions', 'id': 22637}]\n",
            "5. [{'name': 'Walt Disney Pictures', 'id': 2}, {'name': 'Jim Henson Productions', 'id': 2504}, {'name': 'Jim Henson Company, The', 'id': 6254}]\n",
            "\n",
            "Missing production companies: 156\n",
            "\n",
            "============================================================\n",
            "=== KEYWORDS ANALYSIS ===\n",
            "Sample keywords (first 3):\n",
            "1. [{'id': 4379, 'name': 'time travel'}, {'id': 9663, 'name': 'sequel'}, {'id': 11830, 'name': 'hot tub'}, {'id': 179431, 'name': 'duringcreditsstinger'}]...\n",
            "2. [{'id': 2505, 'name': 'coronation'}, {'id': 4263, 'name': 'duty'}, {'id': 6038, 'name': 'marriage'}, {'id': 13072, 'name': 'falling in love'}]...\n",
            "3. [{'id': 1416, 'name': 'jazz'}, {'id': 1523, 'name': 'obsession'}, {'id': 1640, 'name': 'conservatory'}, {'id': 2176, 'name': 'music teacher'}, {'id': 14512, 'name': 'new york city'}, {'id': 14819, 'na...\n",
            "\n",
            "Missing keywords: 276\n"
          ]
        }
      ],
      "source": [
        "# Deep exploration of text features - these are likely our most predictive features!\n",
        "print(\"=== GENRES ANALYSIS ===\")\n",
        "print(f\"Sample genres (first 5):\")\n",
        "for i, genre in enumerate(df['genres'].dropna().head(5)):\n",
        "    print(f\"{i+1}. {genre}\")\n",
        "\n",
        "print(f\"\\nGenres data type: {type(df['genres'].iloc[0])}\")\n",
        "print(f\"Missing genres: {df['genres'].isnull().sum()}\")\n",
        "\n",
        "print(\"\\n\" + \"=\"*60)\n",
        "print(\"=== CAST ANALYSIS ===\")\n",
        "print(f\"Sample cast (first 3):\")\n",
        "for i, cast in enumerate(df['cast'].dropna().head(3)):\n",
        "    print(f\"{i+1}. {cast[:200]}...\")  # Show first 200 characters\n",
        "\n",
        "print(f\"\\nMissing cast: {df['cast'].isnull().sum()}\")\n",
        "\n",
        "print(\"\\n\" + \"=\"*60)\n",
        "print(\"=== PRODUCTION COMPANIES ANALYSIS ===\")\n",
        "print(f\"Sample production companies (first 5):\")\n",
        "for i, company in enumerate(df['production_companies'].dropna().head(5)):\n",
        "    print(f\"{i+1}. {company}\")\n",
        "\n",
        "print(f\"\\nMissing production companies: {df['production_companies'].isnull().sum()}\")\n",
        "\n",
        "print(\"\\n\" + \"=\"*60)\n",
        "print(\"=== KEYWORDS ANALYSIS ===\")\n",
        "print(f\"Sample keywords (first 3):\")\n",
        "for i, keywords in enumerate(df['Keywords'].dropna().head(3)):\n",
        "    print(f\"{i+1}. {keywords[:200]}...\")  # Show first 200 characters\n",
        "\n",
        "print(f\"\\nMissing keywords: {df['Keywords'].isnull().sum()}\")"
      ]
    },
    {
      "cell_type": "code",
      "execution_count": 42,
      "metadata": {},
      "outputs": [
        {
          "name": "stdout",
          "output_type": "stream",
          "text": [
            "=== PARSING GENRES ===\n",
            "Top 10 most common genres:\n",
            "Drama: 1531 movies\n",
            "Comedy: 1028 movies\n",
            "Thriller: 789 movies\n",
            "Action: 741 movies\n",
            "Romance: 571 movies\n",
            "Crime: 469 movies\n",
            "Adventure: 439 movies\n",
            "Horror: 301 movies\n",
            "Science Fiction: 290 movies\n",
            "Family: 260 movies\n",
            "\n",
            "Total unique genres: 20\n"
          ]
        }
      ],
      "source": [
        "import json\n",
        "import ast\n",
        "from collections import Counter\n",
        "\n",
        "# Function to safely parse JSON-like strings\n",
        "def parse_json_column(text):\n",
        "    if pd.isna(text):\n",
        "        return []\n",
        "    try:\n",
        "        # Try to parse as JSON first\n",
        "        return json.loads(text.replace(\"'\", '\"'))\n",
        "    except:\n",
        "        try:\n",
        "            # Try literal_eval for Python-like strings\n",
        "            return ast.literal_eval(text)\n",
        "        except:\n",
        "            return []\n",
        "\n",
        "print(\"=== PARSING GENRES ===\")\n",
        "# Parse genres and extract genre names\n",
        "df['genres_parsed'] = df['genres'].apply(parse_json_column)\n",
        "df['genre_names'] = df['genres_parsed'].apply(lambda x: [item['name'] for item in x if isinstance(item, dict) and 'name' in item])\n",
        "\n",
        "# Count most common genres\n",
        "all_genres = []\n",
        "for genres in df['genre_names']:\n",
        "    all_genres.extend(genres)\n",
        "\n",
        "genre_counts = Counter(all_genres)\n",
        "print(\"Top 10 most common genres:\")\n",
        "for genre, count in genre_counts.most_common(10):\n",
        "    print(f\"{genre}: {count} movies\")\n",
        "\n",
        "print(f\"\\nTotal unique genres: {len(genre_counts)}\")"
      ]
    },
    {
      "cell_type": "code",
      "execution_count": 45,
      "metadata": {},
      "outputs": [
        {
          "name": "stdout",
          "output_type": "stream",
          "text": [
            "=== CREATING GENRE FEATURES ===\n",
            "is_Drama: 1531 movies\n",
            "is_Comedy: 1028 movies\n",
            "is_Thriller: 789 movies\n",
            "is_Action: 741 movies\n",
            "is_Romance: 571 movies\n",
            "is_Crime: 469 movies\n",
            "is_Adventure: 439 movies\n",
            "is_Horror: 301 movies\n",
            "\n",
            "=== GENRE CORRELATIONS WITH REVENUE ===\n",
            "is_Drama: -0.158\n",
            "is_Comedy: -0.031\n",
            "is_Thriller: 0.007\n",
            "is_Action: 0.185\n",
            "is_Romance: -0.049\n",
            "is_Crime: -0.023\n",
            "is_Adventure: 0.328\n",
            "is_Horror: -0.034\n",
            "\n",
            "Genres ranked by correlation strength:\n",
            "Adventure: 0.328\n",
            "Action: 0.185\n",
            "Drama: -0.158\n",
            "Romance: -0.049\n",
            "Horror: -0.034\n",
            "Comedy: -0.031\n",
            "Crime: -0.023\n",
            "Thriller: 0.007\n"
          ]
        }
      ],
      "source": [
        "# Create binary features for top genres\n",
        "top_genres = ['Drama', 'Comedy', 'Thriller', 'Action', 'Romance', 'Crime', 'Adventure', 'Horror']\n",
        "\n",
        "print(\"=== CREATING GENRE FEATURES ===\")\n",
        "for genre in top_genres:\n",
        "    df[f'is_{genre}'] = df['genre_names'].apply(lambda x: 1 if genre in x else 0)\n",
        "    count = df[f'is_{genre}'].sum()\n",
        "    print(f\"is_{genre}: {count} movies\")\n",
        "\n",
        "print(\"\\n=== GENRE CORRELATIONS WITH REVENUE ===\")\n",
        "genre_correlations = []\n",
        "for genre in top_genres:\n",
        "    corr = df[f'is_{genre}'].corr(df['revenue'])\n",
        "    genre_correlations.append((genre, corr))\n",
        "    print(f\"is_{genre}: {corr:.3f}\")\n",
        "\n",
        "# Sort by correlation strength\n",
        "genre_correlations.sort(key=lambda x: abs(x[1]), reverse=True)\n",
        "print(f\"\\nGenres ranked by correlation strength:\")\n",
        "for genre, corr in genre_correlations:\n",
        "    print(f\"{genre}: {corr:.3f}\")"
      ]
    }
  ],
  "metadata": {
    "kernelspec": {
      "display_name": "base",
      "language": "python",
      "name": "python3"
    },
    "language_info": {
      "codemirror_mode": {
        "name": "ipython",
        "version": 3
      },
      "file_extension": ".py",
      "mimetype": "text/x-python",
      "name": "python",
      "nbconvert_exporter": "python",
      "pygments_lexer": "ipython3",
      "version": "3.11.7"
    }
  },
  "nbformat": 4,
  "nbformat_minor": 2
}
